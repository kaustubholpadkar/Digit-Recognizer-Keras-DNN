{
 "cells": [
  {
   "cell_type": "code",
   "execution_count": 1,
   "metadata": {
    "_cell_guid": "2ab0b0ca-4710-4822-bba1-61660d0d243b",
    "_uuid": "31110a9ef4cba81976798133185915db94d0e24a"
   },
   "outputs": [
    {
     "name": "stdout",
     "output_type": "stream",
     "text": [
      "test.csv\n",
      "train.csv\n",
      "\n"
     ]
    }
   ],
   "source": [
    "# This Python 3 environment comes with many helpful analytics libraries installed\n",
    "# It is defined by the kaggle/python docker image: https://github.com/kaggle/docker-python\n",
    "# For example, here's several helpful packages to load in \n",
    "\n",
    "import numpy as np # linear algebra\n",
    "import pandas as pd # data processing, CSV file I/O (e.g. pd.read_csv)\n",
    "\n",
    "# Input data files are available in the \"../input/\" directory.\n",
    "# For example, running this (by clicking run or pressing Shift+Enter) will list the files in the input directory\n",
    "\n",
    "from subprocess import check_output\n",
    "print(check_output([\"ls\", \"../input\"]).decode(\"utf8\"))\n",
    "\n",
    "# Any results you write to the current directory are saved as output."
   ]
  },
  {
   "cell_type": "code",
   "execution_count": 2,
   "metadata": {
    "_cell_guid": "b0eea656-c88f-498a-b390-d8a0c24b1c79",
    "_uuid": "12de92a3b0811ec2a3a91d5e88766228f1785bf8"
   },
   "outputs": [
    {
     "name": "stderr",
     "output_type": "stream",
     "text": [
      "Using TensorFlow backend.\n"
     ]
    }
   ],
   "source": [
    "from sklearn.model_selection import train_test_split\n",
    "\n",
    "from keras.models import Sequential\n",
    "from keras.layers import Dense, Dropout, Activation, Flatten\n",
    "from keras.layers import Conv2D, MaxPooling2D"
   ]
  },
  {
   "cell_type": "code",
   "execution_count": 3,
   "metadata": {
    "_cell_guid": "d8523500-82ed-4502-8d28-3aac65b76289",
    "_uuid": "844adcb604ce91186d78470bd0b8a960c25be80d",
    "collapsed": true
   },
   "outputs": [],
   "source": [
    "# Load Data\n",
    "\n",
    "data = pd.read_csv(\"../input/train.csv\")\n",
    "test = pd.read_csv(\"../input/test.csv\")"
   ]
  },
  {
   "cell_type": "code",
   "execution_count": 4,
   "metadata": {
    "_cell_guid": "917b0219-0c49-415d-9b18-eab8fb3d88b3",
    "_uuid": "0eb71e4fa1b7d240a7a736cb94b06408b45f2ac4",
    "collapsed": true
   },
   "outputs": [],
   "source": [
    "# features and labels\n",
    "\n",
    "features = data.iloc[:, 1:].values.reshape((42000,28,28,1))\n",
    "labels = data.iloc[:, 0].values.reshape((42000,1))\n",
    "test = test.values.reshape((28000,28,28,1))"
   ]
  },
  {
   "cell_type": "code",
   "execution_count": 5,
   "metadata": {
    "_cell_guid": "d48e70c7-acf7-48e3-80ec-0974c0ff7862",
    "_uuid": "de335e289542dd127f75629a5b27d5d54848d4fa",
    "collapsed": true
   },
   "outputs": [],
   "source": [
    "#train test split\n",
    "X_train, X_dev, Y_train, Y_dev = train_test_split(features,\n",
    "                                                   labels,\n",
    "                                                   test_size = 0.025,\n",
    "                                                   random_state = 0,\n",
    "                                                   stratify = labels)"
   ]
  },
  {
   "cell_type": "code",
   "execution_count": 6,
   "metadata": {
    "_cell_guid": "425627af-5f38-46bb-b6aa-995374ad2eb3",
    "_uuid": "85a160c3ff327095d2d8d64dae97e939ce6f5d1d",
    "collapsed": true
   },
   "outputs": [],
   "source": [
    "# feature normalization\n",
    "\n",
    "X_train = X_train/255\n",
    "X_dev = X_dev/255"
   ]
  },
  {
   "cell_type": "code",
   "execution_count": 7,
   "metadata": {
    "_cell_guid": "02e9f927-f511-47aa-9400-1b53a337829c",
    "_uuid": "638f2bca64c150c307381f07f288d0b7d3ad75bb",
    "collapsed": true
   },
   "outputs": [],
   "source": [
    "#One-hot-code y values\n",
    "def convert_to_one_hot(Y, C):\n",
    "    Y = np.eye(C)[Y.reshape(-1)]\n",
    "    return Y"
   ]
  },
  {
   "cell_type": "code",
   "execution_count": 8,
   "metadata": {
    "_cell_guid": "eeb5f0bf-d602-4f3d-9335-d076c53fda7e",
    "_uuid": "cd2b2115402f2358f00aba1f705962dbe0cb4079",
    "collapsed": true
   },
   "outputs": [],
   "source": [
    "# one-hot encoding\n",
    "\n",
    "Y_train, Y_dev = convert_to_one_hot(Y_train, 10), convert_to_one_hot(Y_dev, 10)"
   ]
  },
  {
   "cell_type": "code",
   "execution_count": 9,
   "metadata": {
    "_cell_guid": "8ef00169-048a-4190-abf3-5bb77f4b80ad",
    "_uuid": "48cd2976e597d1c28a777e1b4123945d06b1cf1d",
    "collapsed": true
   },
   "outputs": [],
   "source": [
    "# keras model\n",
    "\n",
    "model = Sequential()\n",
    "\n",
    "model.add(Conv2D(32, (3, 3), activation='relu', input_shape=(28, 28, 1)))\n",
    "model.add(Conv2D(32, (3, 3), activation='relu'))\n",
    "model.add(MaxPooling2D(pool_size=(2, 2)))\n",
    "# model.add(Dropout(0.25))\n",
    "\n",
    "model.add(Conv2D(64, (3, 3), activation='relu'))\n",
    "model.add(Conv2D(64, (3, 3), activation='relu'))\n",
    "model.add(MaxPooling2D(pool_size=(2, 2)))\n",
    "# model.add(Dropout(0.25))\n",
    "\n",
    "model.add(Flatten())\n",
    "model.add(Dense(256, activation='relu'))\n",
    "# model.add(Dropout(0.5))\n",
    "model.add(Dense(10, activation='softmax'))"
   ]
  },
  {
   "cell_type": "code",
   "execution_count": 10,
   "metadata": {
    "_cell_guid": "a67c3195-73b2-4b65-b96c-08a4efa1c912",
    "_uuid": "62ab111b89b53a6c91eea8f564a0c0bbb0ba9016",
    "collapsed": true
   },
   "outputs": [],
   "source": [
    "from keras.optimizers import SGD\n",
    "\n",
    "sgd = SGD(lr=0.01, decay=1e-6, momentum=0.9, nesterov=True)\n",
    "model.compile(loss='categorical_crossentropy', optimizer=sgd, metrics=['accuracy'])"
   ]
  },
  {
   "cell_type": "code",
   "execution_count": 11,
   "metadata": {
    "_cell_guid": "34b250ba-e33b-4fae-90f2-d818ff80dc32",
    "_uuid": "8a4f1d20b5bfb394cf491da723957918406e4404"
   },
   "outputs": [
    {
     "name": "stdout",
     "output_type": "stream",
     "text": [
      "Epoch 1/1\n",
      "40950/40950 [==============================] - 118s 3ms/step - loss: 0.1990 - acc: 0.9360\n"
     ]
    },
    {
     "data": {
      "text/plain": [
       "<keras.callbacks.History at 0x7fcba4617748>"
      ]
     },
     "execution_count": 11,
     "metadata": {},
     "output_type": "execute_result"
    }
   ],
   "source": [
    "model.fit(X_train, Y_train, epochs=1, batch_size=32)"
   ]
  },
  {
   "cell_type": "code",
   "execution_count": 12,
   "metadata": {
    "_cell_guid": "eb80a440-989a-436f-9f9d-66b708b243f6",
    "_uuid": "25ee91fa314467bb0ced2cc684cb1fbbd21e5c36"
   },
   "outputs": [
    {
     "name": "stdout",
     "output_type": "stream",
     "text": [
      "1050/1050 [==============================] - 1s 748us/step\n"
     ]
    },
    {
     "data": {
      "text/plain": [
       "[0.077670979094248083, 0.97714285714285709]"
      ]
     },
     "execution_count": 12,
     "metadata": {},
     "output_type": "execute_result"
    }
   ],
   "source": [
    "score = model.evaluate(X_dev, Y_dev, batch_size=32)\n",
    "score"
   ]
  },
  {
   "cell_type": "code",
   "execution_count": 13,
   "metadata": {
    "_cell_guid": "395246c3-ee25-4f7e-9015-1159dace9eda",
    "_uuid": "c719f75016cff751efafa0f961b8d2c5b181df48",
    "collapsed": true
   },
   "outputs": [],
   "source": [
    "# Submission\n",
    "\n",
    "pred = model.predict_classes(test)"
   ]
  },
  {
   "cell_type": "code",
   "execution_count": 14,
   "metadata": {
    "_cell_guid": "3ff377dc-9582-47a1-b69a-441dded80f12",
    "_uuid": "a6cf21f10b0596bc661ef47849e840b641ab595c",
    "collapsed": true
   },
   "outputs": [],
   "source": [
    "submissions = pd.DataFrame({'ImageId': np.arange(1 , 1 + test.shape[0]), 'Label': pred.astype(int)})\n",
    "submissions.to_csv('./cnn2_submission.csv', index=False)"
   ]
  },
  {
   "cell_type": "code",
   "execution_count": 15,
   "metadata": {
    "_cell_guid": "5af0e783-daa0-4be7-8a1a-89328a776627",
    "_uuid": "1beac7d8919c592835b67651b4a6856ceba76853",
    "collapsed": true
   },
   "outputs": [],
   "source": []
  }
 ],
 "metadata": {
  "kernelspec": {
   "display_name": "Python 3",
   "language": "python",
   "name": "python3"
  },
  "language_info": {
   "codemirror_mode": {
    "name": "ipython",
    "version": 3
   },
   "file_extension": ".py",
   "mimetype": "text/x-python",
   "name": "python",
   "nbconvert_exporter": "python",
   "pygments_lexer": "ipython3",
   "version": "3.6.4"
  }
 },
 "nbformat": 4,
 "nbformat_minor": 1
}

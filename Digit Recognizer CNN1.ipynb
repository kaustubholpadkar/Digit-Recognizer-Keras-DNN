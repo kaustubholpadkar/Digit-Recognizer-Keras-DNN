{
 "cells": [
  {
   "cell_type": "code",
   "execution_count": 1,
   "metadata": {
    "_cell_guid": "72057180-cdfd-4d65-8a8c-8de901801fa4",
    "_uuid": "cffb11416806a7b06e896b91864df3093f38bc98"
   },
   "outputs": [
    {
     "name": "stdout",
     "output_type": "stream",
     "text": [
      "test.csv\n",
      "train.csv\n",
      "\n"
     ]
    }
   ],
   "source": [
    "# This Python 3 environment comes with many helpful analytics libraries installed\n",
    "# It is defined by the kaggle/python docker image: https://github.com/kaggle/docker-python\n",
    "# For example, here's several helpful packages to load in \n",
    "\n",
    "import numpy as np # linear algebra\n",
    "import pandas as pd # data processing, CSV file I/O (e.g. pd.read_csv)\n",
    "\n",
    "# Input data files are available in the \"../input/\" directory.\n",
    "# For example, running this (by clicking run or pressing Shift+Enter) will list the files in the input directory\n",
    "\n",
    "from subprocess import check_output\n",
    "print(check_output([\"ls\", \"../input\"]).decode(\"utf8\"))\n",
    "\n",
    "# Any results you write to the current directory are saved as output."
   ]
  },
  {
   "cell_type": "code",
   "execution_count": 2,
   "metadata": {
    "_cell_guid": "123520e6-5575-4df3-b6b5-bf98bce84815",
    "_uuid": "8d42db6d9c11900944f515d3791bc6f484a5af38"
   },
   "outputs": [
    {
     "name": "stderr",
     "output_type": "stream",
     "text": [
      "Using TensorFlow backend.\n"
     ]
    }
   ],
   "source": [
    "from sklearn.model_selection import train_test_split\n",
    "\n",
    "from keras.models import Sequential\n",
    "from keras.layers import Dense, Dropout, Activation, Flatten\n",
    "from keras.layers import Conv2D, MaxPooling2D"
   ]
  },
  {
   "cell_type": "code",
   "execution_count": 3,
   "metadata": {
    "_cell_guid": "92fac920-f674-484b-aaac-be136a950ef6",
    "_uuid": "8efd2cac191a5e40e363b81e3c49d747bb816d3b",
    "collapsed": true
   },
   "outputs": [],
   "source": [
    "# Load Data\n",
    "\n",
    "data = pd.read_csv(\"../input/train.csv\")\n",
    "test = pd.read_csv(\"../input/test.csv\")"
   ]
  },
  {
   "cell_type": "code",
   "execution_count": 4,
   "metadata": {
    "_cell_guid": "0e7fee09-0892-450a-b18c-b0deac0b68cc",
    "_uuid": "12bc182ff7dfadf6b8e2d9a10ee40d71016e9cf0",
    "collapsed": true
   },
   "outputs": [],
   "source": [
    "# features and labels\n",
    "\n",
    "features = data.iloc[:, 1:].values.reshape((42000,28,28,1))\n",
    "labels = data.iloc[:, 0].values.reshape((42000,1))\n",
    "test = test.values.reshape((28000,28,28,1))"
   ]
  },
  {
   "cell_type": "code",
   "execution_count": 5,
   "metadata": {
    "_cell_guid": "16b9cf7e-7613-4c51-b807-aac56933e652",
    "_uuid": "6b55a6bb0d8210c2e4039843ceb9719964b06e4c",
    "collapsed": true
   },
   "outputs": [],
   "source": [
    "#train test split\n",
    "X_train, X_dev, Y_train, Y_dev = train_test_split(features,\n",
    "                                                   labels,\n",
    "                                                   test_size = 0.025,\n",
    "                                                   random_state = 0,\n",
    "                                                   stratify = labels)"
   ]
  },
  {
   "cell_type": "code",
   "execution_count": 6,
   "metadata": {
    "_cell_guid": "3e0182f9-bfe3-40b1-9ac8-373653b46bd2",
    "_uuid": "140c566a997c837a82fdf9182dcd2b7965dd54c6",
    "collapsed": true
   },
   "outputs": [],
   "source": [
    "# feature normalization\n",
    "\n",
    "X_train = X_train/255\n",
    "X_dev = X_dev/255"
   ]
  },
  {
   "cell_type": "code",
   "execution_count": 7,
   "metadata": {
    "_cell_guid": "d1a76eec-1f0b-432a-8786-5fb88cae748c",
    "_uuid": "2619739be3afb7750a8ccf1dcfdc44950a4bddb3",
    "collapsed": true
   },
   "outputs": [],
   "source": [
    "#One-hot-code y values\n",
    "def convert_to_one_hot(Y, C):\n",
    "    Y = np.eye(C)[Y.reshape(-1)]\n",
    "    return Y"
   ]
  },
  {
   "cell_type": "code",
   "execution_count": 8,
   "metadata": {
    "_cell_guid": "3ceef1b0-4e77-455e-9654-5f60fd440de7",
    "_uuid": "39998f99295dfcfb2c34831961ed6f788270ad77",
    "collapsed": true
   },
   "outputs": [],
   "source": [
    "# one-hot encoding\n",
    "\n",
    "Y_train, Y_dev = convert_to_one_hot(Y_train, 10), convert_to_one_hot(Y_dev, 10)"
   ]
  },
  {
   "cell_type": "code",
   "execution_count": 9,
   "metadata": {
    "_cell_guid": "88dce145-b1b6-4527-a7a6-55693d1eaf50",
    "_uuid": "b98692e34ad87767568f90ae629d8361c9188b56",
    "collapsed": true
   },
   "outputs": [],
   "source": [
    "# keras model\n",
    "\n",
    "model = Sequential()\n",
    "\n",
    "model.add(Conv2D(32, (3, 3), activation='relu', input_shape=(28, 28, 1)))\n",
    "model.add(Conv2D(32, (3, 3), activation='relu'))\n",
    "model.add(MaxPooling2D(pool_size=(2, 2)))\n",
    "model.add(Dropout(0.25))\n",
    "\n",
    "model.add(Conv2D(64, (3, 3), activation='relu'))\n",
    "model.add(Conv2D(64, (3, 3), activation='relu'))\n",
    "model.add(MaxPooling2D(pool_size=(2, 2)))\n",
    "model.add(Dropout(0.25))\n",
    "\n",
    "model.add(Flatten())\n",
    "model.add(Dense(256, activation='relu'))\n",
    "model.add(Dropout(0.5))\n",
    "model.add(Dense(10, activation='softmax'))"
   ]
  },
  {
   "cell_type": "code",
   "execution_count": 10,
   "metadata": {
    "_cell_guid": "278d646a-d0a9-4327-a601-515efcefb901",
    "_uuid": "34367dfbcc2cf3062a23afa9920c44370074ffc1",
    "collapsed": true
   },
   "outputs": [],
   "source": [
    "model.compile(optimizer=\"adam\",\n",
    "             loss='categorical_crossentropy',\n",
    "             metrics=['accuracy'])"
   ]
  },
  {
   "cell_type": "code",
   "execution_count": 11,
   "metadata": {
    "_cell_guid": "1db9e426-7912-43dc-b80b-2bd6bc66a5c0",
    "_uuid": "6039356491daae129eeee70c6b6a5c8ac8d10235"
   },
   "outputs": [
    {
     "name": "stdout",
     "output_type": "stream",
     "text": [
      "Epoch 1/1\n",
      "40950/40950 [==============================] - 140s 3ms/step - loss: 0.2217 - acc: 0.9291\n"
     ]
    },
    {
     "data": {
      "text/plain": [
       "<keras.callbacks.History at 0x7f551752f908>"
      ]
     },
     "execution_count": 11,
     "metadata": {},
     "output_type": "execute_result"
    }
   ],
   "source": [
    "model.fit(X_train, Y_train, epochs=1, batch_size=32)"
   ]
  },
  {
   "cell_type": "code",
   "execution_count": 12,
   "metadata": {
    "_cell_guid": "f19ea21d-168d-4d8b-9c7a-3ecb0748b774",
    "_uuid": "02705228fc544e713744782d3c5385e3aca16a2b"
   },
   "outputs": [
    {
     "name": "stdout",
     "output_type": "stream",
     "text": [
      "1050/1050 [==============================] - 1s 1ms/step\n"
     ]
    },
    {
     "data": {
      "text/plain": [
       "[0.073681265338368357, 0.98476190476190473]"
      ]
     },
     "execution_count": 12,
     "metadata": {},
     "output_type": "execute_result"
    }
   ],
   "source": [
    "score = model.evaluate(X_dev, Y_dev, batch_size=32)\n",
    "score"
   ]
  },
  {
   "cell_type": "code",
   "execution_count": 13,
   "metadata": {
    "_cell_guid": "f69bf100-6123-4f02-bb69-d0bf5b8a8389",
    "_uuid": "1b107e53d972c3a313a989f2774f9db9b9217a49",
    "collapsed": true
   },
   "outputs": [],
   "source": [
    "# Submission\n",
    "\n",
    "pred = model.predict_classes(test)"
   ]
  },
  {
   "cell_type": "code",
   "execution_count": 14,
   "metadata": {
    "_cell_guid": "2236f75c-c981-4e06-a953-493320f49cf5",
    "_uuid": "ffe394aaded5fcf326dfa5ff00d09ff3f8daffdc",
    "collapsed": true
   },
   "outputs": [],
   "source": [
    "submissions = pd.DataFrame({'ImageId': np.arange(1 , 1 + test.shape[0]), 'Label': pred.astype(int)})\n",
    "submissions.to_csv('./cnn1_submission.csv', index=False)"
   ]
  },
  {
   "cell_type": "code",
   "execution_count": 15,
   "metadata": {
    "_cell_guid": "59172874-d285-49dd-987b-8273c826986f",
    "_uuid": "69fe6c3ac8b702d16ecba9d09f992644d4a66cee",
    "collapsed": true
   },
   "outputs": [],
   "source": []
  }
 ],
 "metadata": {
  "kernelspec": {
   "display_name": "Python 3",
   "language": "python",
   "name": "python3"
  },
  "language_info": {
   "codemirror_mode": {
    "name": "ipython",
    "version": 3
   },
   "file_extension": ".py",
   "mimetype": "text/x-python",
   "name": "python",
   "nbconvert_exporter": "python",
   "pygments_lexer": "ipython3",
   "version": "3.6.4"
  }
 },
 "nbformat": 4,
 "nbformat_minor": 1
}

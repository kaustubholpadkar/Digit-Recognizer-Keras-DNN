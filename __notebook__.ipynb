{
 "cells": [
  {
   "cell_type": "code",
   "execution_count": 1,
   "metadata": {
    "_cell_guid": "a14ee328-3da9-460b-9dd2-a58cb70709e1",
    "_uuid": "ddf27c4386bd141e22946c3b401d891214dfe4c7"
   },
   "outputs": [
    {
     "name": "stdout",
     "output_type": "stream",
     "text": [
      "test.csv\n",
      "train.csv\n",
      "\n"
     ]
    }
   ],
   "source": [
    "# This Python 3 environment comes with many helpful analytics libraries installed\n",
    "# It is defined by the kaggle/python docker image: https://github.com/kaggle/docker-python\n",
    "# For example, here's several helpful packages to load in \n",
    "\n",
    "import numpy as np # linear algebra\n",
    "import pandas as pd # data processing, CSV file I/O (e.g. pd.read_csv)\n",
    "\n",
    "# Input data files are available in the \"../input/\" directory.\n",
    "# For example, running this (by clicking run or pressing Shift+Enter) will list the files in the input directory\n",
    "\n",
    "from subprocess import check_output\n",
    "print(check_output([\"ls\", \"../input\"]).decode(\"utf8\"))\n",
    "\n",
    "# Any results you write to the current directory are saved as output."
   ]
  },
  {
   "cell_type": "code",
   "execution_count": 2,
   "metadata": {},
   "outputs": [
    {
     "name": "stderr",
     "output_type": "stream",
     "text": [
      "Using TensorFlow backend.\n"
     ]
    }
   ],
   "source": [
    "# load dependencies\n",
    "\n",
    "from sklearn.model_selection import train_test_split\n",
    "\n",
    "from keras.models import Sequential\n",
    "from keras.layers import Dense, Dropout, Activation"
   ]
  },
  {
   "cell_type": "code",
   "execution_count": 3,
   "metadata": {
    "collapsed": true
   },
   "outputs": [],
   "source": [
    "# Load Data\n",
    "\n",
    "data = pd.read_csv(\"../input/train.csv\")\n",
    "test = pd.read_csv(\"../input/test.csv\")"
   ]
  },
  {
   "cell_type": "code",
   "execution_count": 4,
   "metadata": {
    "collapsed": true
   },
   "outputs": [],
   "source": [
    "# features and labels\n",
    "\n",
    "features = data.iloc[:, 1:].values\n",
    "labels = data.iloc[:, 0].values.reshape((42000,1))\n",
    "test = test.values"
   ]
  },
  {
   "cell_type": "code",
   "execution_count": 5,
   "metadata": {
    "collapsed": true
   },
   "outputs": [],
   "source": [
    "#train test split\n",
    "X_train, X_dev, Y_train, Y_dev = train_test_split(features,\n",
    "                                                   labels,\n",
    "                                                   test_size = 0.025,\n",
    "                                                   random_state = 0,\n",
    "                                                   stratify = labels)"
   ]
  },
  {
   "cell_type": "code",
   "execution_count": 6,
   "metadata": {
    "collapsed": true
   },
   "outputs": [],
   "source": [
    "# feature normalization\n",
    "\n",
    "X_train = X_train/255\n",
    "X_dev = X_dev/255"
   ]
  },
  {
   "cell_type": "code",
   "execution_count": 7,
   "metadata": {
    "collapsed": true
   },
   "outputs": [],
   "source": [
    "#One-hot-code y values\n",
    "def convert_to_one_hot(Y, C):\n",
    "    Y = np.eye(C)[Y.reshape(-1)]\n",
    "    return Y"
   ]
  },
  {
   "cell_type": "code",
   "execution_count": 8,
   "metadata": {
    "collapsed": true
   },
   "outputs": [],
   "source": [
    "# one-hot encoding\n",
    "\n",
    "Y_train, Y_dev = convert_to_one_hot(Y_train, 10), convert_to_one_hot(Y_dev, 10)"
   ]
  },
  {
   "cell_type": "code",
   "execution_count": 9,
   "metadata": {},
   "outputs": [
    {
     "data": {
      "text/plain": [
       "(40950, 784)"
      ]
     },
     "execution_count": 9,
     "metadata": {},
     "output_type": "execute_result"
    }
   ],
   "source": [
    "X_train.shape"
   ]
  },
  {
   "cell_type": "code",
   "execution_count": 10,
   "metadata": {},
   "outputs": [],
   "source": [
    "# keras model\n",
    "\n",
    "model = Sequential()\n",
    "model.add(Dense(256, activation=\"relu\", input_dim=784))\n",
    "model.add(Dense(256, activation=\"relu\", input_dim=256))\n",
    "model.add(Dense(256, activation=\"relu\", input_dim=256))\n",
    "model.add(Dense(10, activation='softmax'))"
   ]
  },
  {
   "cell_type": "code",
   "execution_count": 11,
   "metadata": {
    "collapsed": true
   },
   "outputs": [],
   "source": [
    "model.compile(optimizer=\"adam\",\n",
    "             loss='categorical_crossentropy',\n",
    "             metrics=['accuracy'])"
   ]
  },
  {
   "cell_type": "code",
   "execution_count": 12,
   "metadata": {},
   "outputs": [
    {
     "name": "stdout",
     "output_type": "stream",
     "text": [
      "Epoch 1/50\n",
      "40950/40950 [==============================] - 8s 187us/step - loss: 0.2325 - acc: 0.9294\n",
      "Epoch 2/50\n",
      "40950/40950 [==============================] - 7s 181us/step - loss: 0.1012 - acc: 0.9687\n",
      "Epoch 3/50\n",
      "40950/40950 [==============================] - 7s 178us/step - loss: 0.0705 - acc: 0.9782\n",
      "Epoch 4/50\n",
      "40950/40950 [==============================] - 7s 180us/step - loss: 0.0576 - acc: 0.9819\n",
      "Epoch 5/50\n",
      "40950/40950 [==============================] - 7s 182us/step - loss: 0.0431 - acc: 0.9864\n",
      "Epoch 6/50\n",
      "40950/40950 [==============================] - 8s 190us/step - loss: 0.0398 - acc: 0.9874\n",
      "Epoch 7/50\n",
      "40950/40950 [==============================] - 8s 185us/step - loss: 0.0301 - acc: 0.9906\n",
      "Epoch 8/50\n",
      "40950/40950 [==============================] - 7s 179us/step - loss: 0.0282 - acc: 0.9912\n",
      "Epoch 9/50\n",
      "40950/40950 [==============================] - 7s 178us/step - loss: 0.0246 - acc: 0.9920\n",
      "Epoch 10/50\n",
      "40950/40950 [==============================] - 7s 179us/step - loss: 0.0228 - acc: 0.9926\n",
      "Epoch 11/50\n",
      "40950/40950 [==============================] - 7s 180us/step - loss: 0.0218 - acc: 0.9934\n",
      "Epoch 12/50\n",
      "40950/40950 [==============================] - 7s 179us/step - loss: 0.0181 - acc: 0.9945\n",
      "Epoch 13/50\n",
      "40950/40950 [==============================] - 7s 180us/step - loss: 0.0180 - acc: 0.9945\n",
      "Epoch 14/50\n",
      "40950/40950 [==============================] - 7s 182us/step - loss: 0.0189 - acc: 0.9944\n",
      "Epoch 15/50\n",
      "40950/40950 [==============================] - 7s 181us/step - loss: 0.0152 - acc: 0.9952\n",
      "Epoch 16/50\n",
      "40950/40950 [==============================] - 7s 182us/step - loss: 0.0181 - acc: 0.9950\n",
      "Epoch 17/50\n",
      "40950/40950 [==============================] - 7s 179us/step - loss: 0.0124 - acc: 0.9962\n",
      "Epoch 18/50\n",
      "40950/40950 [==============================] - 7s 180us/step - loss: 0.0196 - acc: 0.9949\n",
      "Epoch 19/50\n",
      "40950/40950 [==============================] - 7s 181us/step - loss: 0.0118 - acc: 0.9968\n",
      "Epoch 20/50\n",
      "40950/40950 [==============================] - 7s 181us/step - loss: 0.0160 - acc: 0.9954\n",
      "Epoch 21/50\n",
      "40950/40950 [==============================] - 7s 179us/step - loss: 0.0125 - acc: 0.9967\n",
      "Epoch 22/50\n",
      "40950/40950 [==============================] - 8s 183us/step - loss: 0.0141 - acc: 0.9966\n",
      "Epoch 23/50\n",
      "40950/40950 [==============================] - 8s 187us/step - loss: 0.0117 - acc: 0.9967\n",
      "Epoch 24/50\n",
      "40950/40950 [==============================] - 7s 181us/step - loss: 0.0106 - acc: 0.9971\n",
      "Epoch 25/50\n",
      "40950/40950 [==============================] - 7s 179us/step - loss: 0.0125 - acc: 0.9969\n",
      "Epoch 26/50\n",
      "40950/40950 [==============================] - 7s 181us/step - loss: 0.0135 - acc: 0.9966\n",
      "Epoch 27/50\n",
      "40950/40950 [==============================] - 7s 182us/step - loss: 0.0142 - acc: 0.9963\n",
      "Epoch 28/50\n",
      "40950/40950 [==============================] - 7s 183us/step - loss: 0.0082 - acc: 0.9980\n",
      "Epoch 29/50\n",
      "40950/40950 [==============================] - 7s 181us/step - loss: 0.0106 - acc: 0.9975\n",
      "Epoch 30/50\n",
      "40950/40950 [==============================] - 7s 183us/step - loss: 0.0164 - acc: 0.9962\n",
      "Epoch 31/50\n",
      "40950/40950 [==============================] - 8s 184us/step - loss: 0.0105 - acc: 0.9972\n",
      "Epoch 32/50\n",
      "40950/40950 [==============================] - 7s 181us/step - loss: 0.0124 - acc: 0.9972\n",
      "Epoch 33/50\n",
      "40950/40950 [==============================] - 7s 181us/step - loss: 0.0073 - acc: 0.9984\n",
      "Epoch 34/50\n",
      "40950/40950 [==============================] - 7s 181us/step - loss: 0.0155 - acc: 0.9967\n",
      "Epoch 35/50\n",
      "40950/40950 [==============================] - 7s 181us/step - loss: 0.0082 - acc: 0.9980\n",
      "Epoch 36/50\n",
      "40950/40950 [==============================] - 7s 181us/step - loss: 0.0089 - acc: 0.9979\n",
      "Epoch 37/50\n",
      "40950/40950 [==============================] - 8s 184us/step - loss: 0.0126 - acc: 0.9973\n",
      "Epoch 38/50\n",
      "40950/40950 [==============================] - 8s 185us/step - loss: 0.0057 - acc: 0.9984\n",
      "Epoch 39/50\n",
      "40950/40950 [==============================] - 8s 189us/step - loss: 0.0118 - acc: 0.9974\n",
      "Epoch 40/50\n",
      "40950/40950 [==============================] - 7s 180us/step - loss: 0.0068 - acc: 0.9984\n",
      "Epoch 41/50\n",
      "40950/40950 [==============================] - 8s 184us/step - loss: 0.0102 - acc: 0.9977\n",
      "Epoch 42/50\n",
      "40950/40950 [==============================] - 7s 183us/step - loss: 0.0103 - acc: 0.9975\n",
      "Epoch 43/50\n",
      "40950/40950 [==============================] - 8s 183us/step - loss: 0.0080 - acc: 0.9981\n",
      "Epoch 44/50\n",
      "40950/40950 [==============================] - 7s 182us/step - loss: 0.0116 - acc: 0.9976\n",
      "Epoch 45/50\n",
      "40950/40950 [==============================] - 7s 181us/step - loss: 0.0075 - acc: 0.9984\n",
      "Epoch 46/50\n",
      "34880/40950 [========================>.....] - ETA: 1s - loss: 0.0123 - acc: 0.9974"
     ]
    }
   ],
   "source": [
    "model.fit(X_train, Y_train, epochs=50, batch_size=32)"
   ]
  },
  {
   "cell_type": "code",
   "execution_count": 13,
   "metadata": {},
   "outputs": [
    {
     "name": "stdout",
     "output_type": "stream",
     "text": [
      "1050/1050 [==============================] - 0s 96us/step\n"
     ]
    },
    {
     "data": {
      "text/plain": [
       "[0.29934199338370099, 0.97523809523809524]"
      ]
     },
     "execution_count": 13,
     "metadata": {},
     "output_type": "execute_result"
    }
   ],
   "source": [
    "score = model.evaluate(X_dev, Y_dev, batch_size=32)\n",
    "score"
   ]
  },
  {
   "cell_type": "code",
   "execution_count": 14,
   "metadata": {
    "collapsed": true
   },
   "outputs": [],
   "source": [
    "# Submission\n",
    "\n",
    "pred = model.predict_classes(test)"
   ]
  },
  {
   "cell_type": "code",
   "execution_count": 15,
   "metadata": {},
   "outputs": [
    {
     "data": {
      "text/plain": [
       "array([2, 0, 9, ..., 3, 9, 2])"
      ]
     },
     "execution_count": 15,
     "metadata": {},
     "output_type": "execute_result"
    }
   ],
   "source": [
    "pred"
   ]
  },
  {
   "cell_type": "code",
   "execution_count": 16,
   "metadata": {
    "collapsed": true
   },
   "outputs": [],
   "source": [
    "submissions = pd.DataFrame({'ImageId': np.arange(1 , 1 + test.shape[0]), 'Label': pred.astype(int)})\n",
    "submissions.to_csv('./dnn_submission.csv', index=False)"
   ]
  },
  {
   "cell_type": "code",
   "execution_count": 17,
   "metadata": {
    "collapsed": true
   },
   "outputs": [],
   "source": []
  }
 ],
 "metadata": {
  "kernelspec": {
   "display_name": "Python 3",
   "language": "python",
   "name": "python3"
  },
  "language_info": {
   "codemirror_mode": {
    "name": "ipython",
    "version": 3
   },
   "file_extension": ".py",
   "mimetype": "text/x-python",
   "name": "python",
   "nbconvert_exporter": "python",
   "pygments_lexer": "ipython3",
   "version": "3.6.4"
  }
 },
 "nbformat": 4,
 "nbformat_minor": 1
}

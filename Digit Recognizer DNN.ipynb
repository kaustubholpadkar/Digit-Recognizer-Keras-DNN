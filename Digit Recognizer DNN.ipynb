{
  "cells": [
    {
      "metadata": {
        "_uuid": "ddf27c4386bd141e22946c3b401d891214dfe4c7",
        "collapsed": true,
        "_cell_guid": "a14ee328-3da9-460b-9dd2-a58cb70709e1",
        "trusted": false
      },
      "cell_type": "code",
      "source": "# This Python 3 environment comes with many helpful analytics libraries installed\n# It is defined by the kaggle/python docker image: https://github.com/kaggle/docker-python\n# For example, here's several helpful packages to load in \n\nimport numpy as np # linear algebra\nimport pandas as pd # data processing, CSV file I/O (e.g. pd.read_csv)\n\n# Input data files are available in the \"../input/\" directory.\n# For example, running this (by clicking run or pressing Shift+Enter) will list the files in the input directory\n\nfrom subprocess import check_output\nprint(check_output([\"ls\", \"../input\"]).decode(\"utf8\"))\n\n# Any results you write to the current directory are saved as output.",
      "execution_count": null,
      "outputs": []
    },
    {
      "metadata": {
        "_uuid": "17fd5901422d5263a13c50216048d7ae8d7f35f7",
        "collapsed": true,
        "_cell_guid": "383ca59f-b727-4b1a-8aa9-64318a5e827a",
        "trusted": false
      },
      "cell_type": "code",
      "source": "# load dependencies\n\nfrom sklearn.model_selection import train_test_split\n\nfrom keras.models import Sequential\nfrom keras.layers import Dense, Dropout, Activation",
      "execution_count": null,
      "outputs": []
    },
    {
      "metadata": {
        "_uuid": "19c7ef0aff9ab7fda7b021745843378b649dd870",
        "collapsed": true,
        "_cell_guid": "b4126364-ea33-4659-adbd-c694dbc8b491",
        "trusted": false
      },
      "cell_type": "code",
      "source": "# Load Data\n\ndata = pd.read_csv(\"../input/train.csv\")\ntest = pd.read_csv(\"../input/test.csv\")",
      "execution_count": null,
      "outputs": []
    },
    {
      "metadata": {
        "_uuid": "992c17bac76dc9d7d2c1d966feca268ce3c0312e",
        "collapsed": true,
        "_cell_guid": "f68bed53-6920-4fdd-991b-880378b9f4d6",
        "trusted": false
      },
      "cell_type": "code",
      "source": "# features and labels\n\nfeatures = data.iloc[:, 1:].values\nlabels = data.iloc[:, 0].values.reshape((42000,1))\ntest = test.values",
      "execution_count": null,
      "outputs": []
    },
    {
      "metadata": {
        "_uuid": "d1bd69d317613faddf87b3d24a3203caca4f86c9",
        "collapsed": true,
        "_cell_guid": "350e5dd9-fbc7-4789-b120-85188b65d44a",
        "trusted": false
      },
      "cell_type": "code",
      "source": "#train test split\nX_train, X_dev, Y_train, Y_dev = train_test_split(features,\n                                                   labels,\n                                                   test_size = 0.025,\n                                                   random_state = 0,\n                                                   stratify = labels)",
      "execution_count": null,
      "outputs": []
    },
    {
      "metadata": {
        "_uuid": "b3bc1841e38229f07736c6090a1e529892eda054",
        "collapsed": true,
        "_cell_guid": "b2a246c1-95d3-4fb0-bf88-f3efc8c89b72",
        "trusted": false
      },
      "cell_type": "code",
      "source": "# feature normalization\n\nX_train = X_train/255\nX_dev = X_dev/255",
      "execution_count": null,
      "outputs": []
    },
    {
      "metadata": {
        "_uuid": "873ff4391854485a5e4a2af29510577d1fa85f80",
        "collapsed": true,
        "_cell_guid": "8fff3ad8-6d02-48b8-8e76-42b9143d5e44",
        "trusted": false
      },
      "cell_type": "code",
      "source": "#One-hot-code y values\ndef convert_to_one_hot(Y, C):\n    Y = np.eye(C)[Y.reshape(-1)]\n    return Y",
      "execution_count": null,
      "outputs": []
    },
    {
      "metadata": {
        "_uuid": "2b5547fa4cbeacc93c5ab6019a00cfcd84a58b35",
        "collapsed": true,
        "_cell_guid": "5ef691ba-d116-4d1f-bd4a-6a891ffbee81",
        "trusted": false
      },
      "cell_type": "code",
      "source": "# one-hot encoding\n\nY_train, Y_dev = convert_to_one_hot(Y_train, 10), convert_to_one_hot(Y_dev, 10)",
      "execution_count": null,
      "outputs": []
    },
    {
      "metadata": {
        "_uuid": "f053a0945e25a563568dae973b042ee86d5db085",
        "collapsed": true,
        "_cell_guid": "85197da5-15db-4879-beb2-a107a0f70216",
        "trusted": false
      },
      "cell_type": "code",
      "source": "X_train.shape",
      "execution_count": null,
      "outputs": []
    },
    {
      "metadata": {
        "_uuid": "c496a787da707588dba821ea06c0f3c33b3f182e",
        "collapsed": true,
        "_cell_guid": "bc173518-28d8-479c-b232-c2bd7916d578",
        "trusted": false
      },
      "cell_type": "code",
      "source": "# keras model\n\nmodel = Sequential()\nmodel.add(Dense(256, activation=\"relu\", input_dim=784))\nmodel.add(Dense(256, activation=\"relu\", input_dim=256))\nmodel.add(Dense(256, activation=\"relu\", input_dim=256))\nmodel.add(Dense(10, activation='softmax'))",
      "execution_count": null,
      "outputs": []
    },
    {
      "metadata": {
        "_uuid": "60b86a91508729e971edf1d4d461fb985711fe3c",
        "collapsed": true,
        "_cell_guid": "c28d04c5-2077-470e-b508-4c99e66d7667",
        "trusted": false
      },
      "cell_type": "code",
      "source": "model.compile(optimizer=\"adam\",\n             loss='categorical_crossentropy',\n             metrics=['accuracy'])",
      "execution_count": null,
      "outputs": []
    },
    {
      "metadata": {
        "_uuid": "708f5a7893a6e35dd96f37f8cf037ce22cbae75e",
        "collapsed": true,
        "_cell_guid": "2d516706-af33-4630-8321-eac7e6b003b2",
        "trusted": false
      },
      "cell_type": "code",
      "source": "model.fit(X_train, Y_train, epochs=50, batch_size=32)",
      "execution_count": null,
      "outputs": []
    },
    {
      "metadata": {
        "_uuid": "8ddbc2c7ac975ce8dbd474a3a2159f098a2c236b",
        "collapsed": true,
        "_cell_guid": "92ab14ad-5f7b-4752-a5a1-183342177c9b",
        "trusted": false
      },
      "cell_type": "code",
      "source": "score = model.evaluate(X_dev, Y_dev, batch_size=32)\nscore",
      "execution_count": null,
      "outputs": []
    },
    {
      "metadata": {
        "_uuid": "1052351c4c3fc6d4441766c32aed91b99ca2481d",
        "collapsed": true,
        "_cell_guid": "c63c8ad7-e2e3-44e9-803e-4e13ca49b5bc",
        "trusted": false
      },
      "cell_type": "code",
      "source": "# Submission\n\npred = model.predict_classes(test)",
      "execution_count": null,
      "outputs": []
    },
    {
      "metadata": {
        "_uuid": "f65e638efbd2e0361397a379028d1161c5e0d0e0",
        "collapsed": true,
        "_cell_guid": "341c5d73-7f89-44fe-b25d-8e213a9003a2",
        "trusted": false
      },
      "cell_type": "code",
      "source": "pred",
      "execution_count": null,
      "outputs": []
    },
    {
      "metadata": {
        "_uuid": "62b05799d9128331111c4559d6e61df77334438d",
        "collapsed": true,
        "_cell_guid": "8e59569f-c003-442f-8e54-b6d01421c078",
        "trusted": false
      },
      "cell_type": "code",
      "source": "submissions = pd.DataFrame({'ImageId': np.arange(1 , 1 + test.shape[0]), 'Label': pred.astype(int)})\nsubmissions.to_csv('./dnn_submission.csv', index=False)",
      "execution_count": null,
      "outputs": []
    },
    {
      "metadata": {
        "_uuid": "52331db9da315c77e00b97a3d4d4c91cde5a8b35",
        "collapsed": true,
        "_cell_guid": "4bc34c81-8f57-4859-857b-2f7f4b5d9133",
        "trusted": false
      },
      "cell_type": "code",
      "source": "submissions",
      "execution_count": null,
      "outputs": []
    },
    {
      "metadata": {
        "_uuid": "a3cb1d0c0bb640f1a7abcae1cdc704c7e79817e5",
        "collapsed": true,
        "_cell_guid": "1916d60c-27bc-4dfa-a388-2e4449f7c544",
        "trusted": false
      },
      "cell_type": "code",
      "source": "",
      "execution_count": null,
      "outputs": []
    }
  ],
  "metadata": {
    "kernelspec": {
      "display_name": "Python 3",
      "language": "python",
      "name": "python3"
    },
    "language_info": {
      "mimetype": "text/x-python",
      "version": "3.6.4",
      "name": "python",
      "nbconvert_exporter": "python",
      "file_extension": ".py",
      "pygments_lexer": "ipython3",
      "codemirror_mode": {
        "version": 3,
        "name": "ipython"
      }
    }
  },
  "nbformat": 4,
  "nbformat_minor": 1
}